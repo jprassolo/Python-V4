{
 "cells": [
  {
   "cell_type": "markdown",
   "metadata": {},
   "source": [
    "ciclos:\n",
    "\n",
    "while (condicion):\n",
    "    ...\n",
    "    ...\n",
    "    ... "
   ]
  },
  {
   "cell_type": "code",
   "execution_count": null,
   "metadata": {},
   "outputs": [],
   "source": [
    "inicio = 1\n",
    "limite = int(input(\"ingrese el numero limite : \"))\n",
    "\n",
    "while (inicio < limite):\n",
    "    print(f\"el valor actual es : \" + str(inicio))\n",
    "    inicio = inicio + 1"
   ]
  },
  {
   "cell_type": "markdown",
   "metadata": {},
   "source": []
  },
  {
   "cell_type": "code",
   "execution_count": null,
   "metadata": {},
   "outputs": [],
   "source": [
    "secreto = 5\n",
    "intentos = 1\n",
    "numero = int(input(\"ingrese numero : \"))\n",
    "\n",
    "while (numero != secreto):\n",
    "    if (intentos ==3):\n",
    "        print(\"se acabaron los intentos\")\n",
    "    else:\n",
    "        numero = int(input(\"ingrese otro numero :\"))\n",
    "        intentos += 1"
   ]
  }
 ],
 "metadata": {
  "kernelspec": {
   "display_name": "Python 3",
   "language": "python",
   "name": "python3"
  },
  "language_info": {
   "codemirror_mode": {
    "name": "ipython",
    "version": 3
   },
   "file_extension": ".py",
   "mimetype": "text/x-python",
   "name": "python",
   "nbconvert_exporter": "python",
   "pygments_lexer": "ipython3",
   "version": "3.11.4"
  },
  "orig_nbformat": 4
 },
 "nbformat": 4,
 "nbformat_minor": 2
}
