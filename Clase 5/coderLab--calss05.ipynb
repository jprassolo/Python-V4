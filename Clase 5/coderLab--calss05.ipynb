{
 "cells": [
  {
   "cell_type": "markdown",
   "metadata": {},
   "source": [
    "ciclos:\n",
    "\n",
    "while (condicion):\n",
    "    ...\n",
    "    ...\n",
    "    ... "
   ]
  },
  {
   "cell_type": "code",
   "execution_count": null,
   "metadata": {},
   "outputs": [],
   "source": [
    "inicio = 1\n",
    "limite = int(input(\"ingrese el numero limite : \"))\n",
    "\n",
    "while (inicio < limite):\n",
    "    print(f\"el valor actual es : \" + str(inicio))\n",
    "    inicio = inicio + 1"
   ]
  },
  {
   "cell_type": "code",
   "execution_count": null,
   "metadata": {},
   "outputs": [],
   "source": [
    "secreto = 5\n",
    "intentos = 1\n",
    "numero = int(input(\"ingrese numero : \"))\n",
    "\n",
    "while (numero != secreto):\n",
    "    if (intentos ==3):\n",
    "        print(\"se acabaron los intentos\")\n",
    "    else:\n",
    "        numero = int(input(\"ingrese otro numero :\"))\n",
    "        intentos += 1"
   ]
  },
  {
   "cell_type": "markdown",
   "metadata": {},
   "source": [
    "4  Crear un programa que pida números al usuario hasta que ingrese el \"0\"\u000b\n",
    "#   Imprimir por pantalla la lista de valores ingresados\u000b\n",
    "#   Recorrer la lista de valores ingresados y crear una nueva lista teniendo en cuenta los siguientes casos\u000b\n",
    "#   Si el valor leido es positivo impar agregar su doble, es decir, multiplicarlo por dos y agregarlo a la nueva lista\u000b\n",
    "#   Si el valor leido es positivo par no tenerlo en cuenta\u000b\n",
    "#   Si el valor leido es negativo finalizar el programa y devolver los elementos que tiene la nueva lista hasta ese momento"
   ]
  }
 ],
 "metadata": {
  "kernelspec": {
   "display_name": "Python 3",
   "language": "python",
   "name": "python3"
  },
  "language_info": {
   "codemirror_mode": {
    "name": "ipython",
    "version": 3
   },
   "file_extension": ".py",
   "mimetype": "text/x-python",
   "name": "python",
   "nbconvert_exporter": "python",
   "pygments_lexer": "ipython3",
   "version": "3.11.4"
  },
  "orig_nbformat": 4
 },
 "nbformat": 4,
 "nbformat_minor": 2
}
