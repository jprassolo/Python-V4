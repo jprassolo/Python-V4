{
 "cells": [
  {
   "cell_type": "code",
   "execution_count": 2,
   "metadata": {},
   "outputs": [
    {
     "name": "stdout",
     "output_type": "stream",
     "text": [
      "1. su nombre es largo..\n",
      "4. continua ejecutandose el resto del programa\n"
     ]
    }
   ],
   "source": [
    "nombre = input(\"ingrese nombre: \")\n",
    "\n",
    "if len(nombre)>5                :   print(\"1. su nombre es largo..\")\n",
    "if nombre[0] ==\"A\"              :   print(\"2. Inicia con mayusculas\")\n",
    "if nombre == nombre.capitalize  :   print(\"3. tu nombre esta bien escrito\")\n",
    "\n",
    "print(\"4. continua ejecutandose el resto del programa\")"
   ]
  }
 ],
 "metadata": {
  "kernelspec": {
   "display_name": "Python 3",
   "language": "python",
   "name": "python3"
  },
  "language_info": {
   "codemirror_mode": {
    "name": "ipython",
    "version": 3
   },
   "file_extension": ".py",
   "mimetype": "text/x-python",
   "name": "python",
   "nbconvert_exporter": "python",
   "pygments_lexer": "ipython3",
   "version": "3.11.4"
  },
  "orig_nbformat": 4
 },
 "nbformat": 4,
 "nbformat_minor": 2
}
