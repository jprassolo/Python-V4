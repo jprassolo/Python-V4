{
 "cells": [
  {
   "cell_type": "code",
   "execution_count": 2,
   "metadata": {},
   "outputs": [
    {
     "name": "stdout",
     "output_type": "stream",
     "text": [
      "1. su nombre es largo..\n",
      "4. continua ejecutandose el resto del programa\n"
     ]
    }
   ],
   "source": [
    "nombre = input(\"ingrese nombre: \")\n",
    "\n",
    "if len(nombre)>5                :   print(\"1. su nombre es largo..\")\n",
    "if nombre[0] ==\"A\"              :   print(\"2. Inicia con mayusculas\")\n",
    "if nombre == nombre.capitalize  :   print(\"3. tu nombre esta bien escrito\")\n",
    "\n",
    "print(\"4. continua ejecutandose el resto del programa\")"
   ]
  },
  {
   "cell_type": "markdown",
   "metadata": {},
   "source": [
    "APROBACION CREDITO BANCARIO\n",
    "mayor de edad\n",
    "    si tiene mas de 3 años de antiguedad, ingreso > 2500\n",
    "    si no tiene mas de 3 años de antiguedad, ingreso > 4000\n",
    "    sino cumple ninguna condicion no aprueba el credito"
   ]
  },
  {
   "cell_type": "code",
   "execution_count": null,
   "metadata": {},
   "outputs": [],
   "source": [
    "edad = int(input(\"ingrese la edad: \"))\n",
    "if (edad > 18):\n",
    "    antiguedad = int(input(\"ingrese la antiguedad: \"))\n",
    "    ingresos = int(input(\"ingrese la ingre$o$: \"))\n",
    "    if (antiguedad > 3) and (ingresos > 2500):\n",
    "        print(\"credito aprobado\")\n",
    "    elif (antiguedad < 3) and (ingresos > 4000):\n",
    "        print(\"credito aprobado\")\n",
    "    else: print(\"credito no aprobado\")    \n",
    "else: \n",
    "    print(\"debe ser mayor para obetener el credito.\")"
   ]
  },
  {
   "cell_type": "code",
   "execution_count": 3,
   "metadata": {},
   "outputs": [
    {
     "name": "stdout",
     "output_type": "stream",
     "text": [
      "pertenece al grupo A\n"
     ]
    }
   ],
   "source": [
    "nombre = input(\"ingrese nombre\")\n",
    "preferencia = input(\"ingrese su preferencia Marvel/Capcom\")\n",
    "\n",
    "if (nombre[0]<=\"M\" and preferencia==\"Marvel\") or (nombre[0]>=\"N\" and preferencia==\"Capcon\"):\n",
    "    print(\"pertenece al grupo A\")\n",
    "else:\n",
    "    print(\"pertenece al grupo B\")"
   ]
  }
 ],
 "metadata": {
  "kernelspec": {
   "display_name": "Python 3",
   "language": "python",
   "name": "python3"
  },
  "language_info": {
   "codemirror_mode": {
    "name": "ipython",
    "version": 3
   },
   "file_extension": ".py",
   "mimetype": "text/x-python",
   "name": "python",
   "nbconvert_exporter": "python",
   "pygments_lexer": "ipython3",
   "version": "3.11.4"
  },
  "orig_nbformat": 4
 },
 "nbformat": 4,
 "nbformat_minor": 2
}
