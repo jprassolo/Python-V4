{
 "cells": [
  {
   "cell_type": "markdown",
   "metadata": {},
   "source": [
    "#1  Dada la lista 'personas' devolver la cantidad de generos diferentes que hay"
   ]
  },
  {
   "cell_type": "code",
   "execution_count": 8,
   "metadata": {},
   "outputs": [
    {
     "name": "stdout",
     "output_type": "stream",
     "text": [
      "8\n"
     ]
    }
   ],
   "source": [
    "personas = [\n",
    "            {\"id\":1,\"first_name\":\"Catha\",\"last_name\":\"Carlton\",\"city\":\"Qingshandi\",\"email\":\"ccarlton0@twitter.com\",\"gender\":\"Polygender\"},\n",
    "            {\"id\":2,\"first_name\":\"Toddie\",\"last_name\":\"Ibeson\",\"city\":\"San Juan\",\"email\":\"tibeson1@freewebs.com\",\"gender\":\"Bigender\"},\n",
    "            {\"id\":3,\"first_name\":\"Ashlee\",\"last_name\":\"McAuslan\",\"city\":\"São Jerônimo\",\"email\":\"amcauslan2@pcworld.com\",\"gender\":\"Polygender\"},\n",
    "            {\"id\":4,\"first_name\":\"Julie\",\"last_name\":\"Fischer\",\"city\":\"Lasusua\",\"email\":\"jfischer3@ucoz.com\",\"gender\":\"Agender\"},\n",
    "            {\"id\":5,\"first_name\":\"Manda\",\"last_name\":\"Mapis\",\"city\":\"Sindang\",\"email\":\"mmapis4@foxnews.com\",\"gender\":\"Non-binary\"},\n",
    "            {\"id\":6,\"first_name\":\"Noami\",\"last_name\":\"Rubanenko\",\"city\":\"Siemianowice Śląskie\",\"email\":\"nrubanenko5@geocities.com\",\"gender\":\"Genderfluid\"},\n",
    "            {\"id\":7,\"first_name\":\"Daffi\",\"last_name\":\"Wherton\",\"city\":\"Kamirenjaku\",\"email\":\"dwherton6@privacy.gov.au\",\"gender\":\"Bigender\"},\n",
    "            {\"id\":8,\"first_name\":\"Tamma\",\"last_name\":\"Worsham\",\"city\":\"Batang\",\"email\":\"tworsham7@globo.com\",\"gender\":\"Male\"},\n",
    "            {\"id\":9,\"first_name\":\"Gibby\",\"last_name\":\"Blacktin\",\"city\":\"Makarov\",\"email\":\"gblacktin8@mac.com\",\"gender\":\"Agender\"},\n",
    "            {\"id\":10,\"first_name\":\"Locke\",\"last_name\":\"Pirdy\",\"city\":\"Ketanggungan\",\"email\":\"lpirdy9@wix.com\",\"gender\":\"Polygender\"},\n",
    "            {\"id\":11,\"first_name\":\"Dorree\",\"last_name\":\"Claypool\",\"city\":\"Laborie\",\"email\":\"dclaypoola@un.org\",\"gender\":\"Female\"},\n",
    "            {\"id\":12,\"first_name\":\"Jermaine\",\"last_name\":\"Duplan\",\"city\":\"Chemin Grenier\",\"email\":\"jduplanb@skype.com\",\"gender\":\"Polygender\"},\n",
    "            {\"id\":13,\"first_name\":\"Kliment\",\"last_name\":\"Divill\",\"city\":\"Baochang\",\"email\":\"kdivillc@tamu.edu\",\"gender\":\"Agender\"},\n",
    "            {\"id\":14,\"first_name\":\"Bernice\",\"last_name\":\"O'Hartnett\",\"city\":\"Askainen\",\"email\":\"bohartnettd@tripod.com\",\"gender\":\"Genderqueer\"},\n",
    "            {\"id\":15,\"first_name\":\"Teirtza\",\"last_name\":\"Summerlee\",\"city\":\"Babakanbungur\",\"email\":\"tsummerleee@scientificamerican.com\",\"gender\":\"Agender\"}\n",
    "]\n",
    "\n",
    "generos = set()\n",
    "for persona in personas:\n",
    "    generos.add(persona[\"gender\"])\n",
    "print(len(generos))"
   ]
  },
  {
   "cell_type": "markdown",
   "metadata": {},
   "source": [
    "#2  \n",
    "\u000b# Dada la lista personas, pedir al usuario que ingrese una letra y devolver \n",
    "\u000b# una lista con los nombres de las personas que su nombre empieza con esa letra\n",
    "\u000b# En el caso que no haya ninguno, devolver que no existe ningún nombre con esa letra"
   ]
  },
  {
   "cell_type": "code",
   "execution_count": null,
   "metadata": {},
   "outputs": [],
   "source": []
  },
  {
   "cell_type": "markdown",
   "metadata": {},
   "source": [
    "#3  \n",
    "Dado el diccionario \"respuestas\", escribir un programa que saque por pantalla el mensaje \"chat activo: \" y según lo que el usuario ingrese devolver el valor correspondiente a esa clave, si la clave no existe imprimr 'lo siento, no te entendí, me lo dices de otra forma?'\n",
    "\n",
    "#   Finalizar el chat si el segundo valor de la tupla es True"
   ]
  },
  {
   "cell_type": "code",
   "execution_count": null,
   "metadata": {},
   "outputs": [],
   "source": [
    "respuestas = {\n",
    "            'hola juan carlos': ('hola, como estás?', False),\n",
    "            'buen dia': ('muy buenos días, espero te encuentres muy bien', False),\n",
    "            'adios': ('hasta la próxima compañero', True),\n",
    "            'cuanto es 2 + 2?': (4, False)\n",
    "}\n"
   ]
  }
 ],
 "metadata": {
  "kernelspec": {
   "display_name": "Python 3",
   "language": "python",
   "name": "python3"
  },
  "language_info": {
   "codemirror_mode": {
    "name": "ipython",
    "version": 3
   },
   "file_extension": ".py",
   "mimetype": "text/x-python",
   "name": "python",
   "nbconvert_exporter": "python",
   "pygments_lexer": "ipython3",
   "version": "3.11.4"
  },
  "orig_nbformat": 4
 },
 "nbformat": 4,
 "nbformat_minor": 2
}
